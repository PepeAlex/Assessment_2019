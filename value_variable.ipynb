{
 "cells": [
  {
   "cell_type": "code",
   "execution_count": 1,
   "metadata": {},
   "outputs": [],
   "source": [
    "import pandas as pd\n",
    "\n",
    "Tip_data = pd.read_csv(\"https://github.com/mwaskom/seaborn-data/raw/master/tips.csv\")"
   ]
  },
  {
   "cell_type": "code",
   "execution_count": 2,
   "metadata": {},
   "outputs": [
    {
     "name": "stdout",
     "output_type": "stream",
     "text": [
      "Mean of gender\n",
      "        total_bill       tip      size\n",
      "sex                                   \n",
      "Female   18.056897  2.833448  2.459770\n",
      "Male     20.744076  3.089618  2.630573\n",
      "\n",
      "\n",
      "Max value of gender\n",
      "        total_bill   tip smoker   day   time  size\n",
      "sex                                               \n",
      "Female       44.30   6.5    Yes  Thur  Lunch     6\n",
      "Male         50.81  10.0    Yes  Thur  Lunch     6\n",
      "\n",
      "\n",
      "Min value of gender\n",
      "        total_bill  tip smoker  day    time  size\n",
      "sex                                              \n",
      "Female        3.07  1.0     No  Fri  Dinner     1\n",
      "Male          7.25  1.0     No  Fri  Dinner     1\n",
      "\n",
      "\n",
      "Median of them\n",
      "        total_bill   tip  size\n",
      "sex                           \n",
      "Female       16.40  2.75     2\n",
      "Male         18.35  3.00     2\n",
      "\n",
      "\n"
     ]
    }
   ],
   "source": [
    "group = Tip_data.groupby(\"sex\")\n",
    "\n",
    "print(\"Mean of gender\")\n",
    "print(group.mean())\n",
    "print(\"\\n\")\n",
    "\n",
    "print(\"Max value of gender\")\n",
    "print(group.max())\n",
    "print(\"\\n\")\n",
    "\n",
    "print(\"Min value of gender\")\n",
    "print(group.min())\n",
    "print(\"\\n\")\n",
    "\n",
    "print(\"Median of them\")\n",
    "print(group.median())\n",
    "print(\"\\n\")"
   ]
  }
 ],
 "metadata": {
  "kernelspec": {
   "display_name": "Python 3",
   "language": "python",
   "name": "python3"
  },
  "language_info": {
   "codemirror_mode": {
    "name": "ipython",
    "version": 3
   },
   "file_extension": ".py",
   "mimetype": "text/x-python",
   "name": "python",
   "nbconvert_exporter": "python",
   "pygments_lexer": "ipython3",
   "version": "3.7.3"
  }
 },
 "nbformat": 4,
 "nbformat_minor": 2
}
